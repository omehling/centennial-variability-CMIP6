{
 "cells": [
  {
   "cell_type": "code",
   "execution_count": null,
   "id": "0",
   "metadata": {},
   "outputs": [],
   "source": [
    "%load_ext autoreload\n",
    "%autoreload 2"
   ]
  },
  {
   "cell_type": "code",
   "execution_count": null,
   "id": "1",
   "metadata": {},
   "outputs": [],
   "source": [
    "import numpy as np\n",
    "import xarray as xr\n",
    "import matplotlib.pyplot as plt\n",
    "import pandas as pd\n",
    "import seaborn as sns\n",
    "import glob\n",
    "import cartopy.crs as ccrs\n",
    "import cmocean\n",
    "from cartopy.feature import LAND\n",
    "from mpl_toolkits.axes_grid1 import make_axes_locatable"
   ]
  },
  {
   "cell_type": "code",
   "execution_count": null,
   "id": "2",
   "metadata": {},
   "outputs": [],
   "source": [
    "import sys\n",
    "sys.path.append(\"scripts/\")\n",
    "import processing as proc"
   ]
  },
  {
   "cell_type": "code",
   "execution_count": null,
   "id": "3",
   "metadata": {},
   "outputs": [],
   "source": [
    "rho0 = 1026 # Reference density [kg/m^3]"
   ]
  },
  {
   "cell_type": "code",
   "execution_count": null,
   "id": "4",
   "metadata": {},
   "outputs": [],
   "source": [
    "ref_lat = 40 # Reference latitude for AMOC calculations (°N)"
   ]
  },
  {
   "cell_type": "code",
   "execution_count": null,
   "id": "5",
   "metadata": {},
   "outputs": [],
   "source": [
    "lowpass_cutoff = 70"
   ]
  },
  {
   "cell_type": "markdown",
   "id": "6",
   "metadata": {},
   "source": [
    "### Import AMOC fields"
   ]
  },
  {
   "cell_type": "code",
   "execution_count": null,
   "id": "7",
   "metadata": {},
   "outputs": [],
   "source": [
    "model_list = pd.read_csv(\"model_list.csv\").set_index(\"Model\")\n",
    "sel_models = list(model_list.index)"
   ]
  },
  {
   "cell_type": "code",
   "execution_count": null,
   "id": "8",
   "metadata": {},
   "outputs": [],
   "source": [
    "# Import streamfunction fields\n",
    "amoc_strf = {}\n",
    "amoc_strf_detr = {}\n",
    "for model in sel_models:\n",
    "    member = model_list.loc[model,\"Member\"]\n",
    "    amoc_files = glob.glob(\"/home/omehling/work/cmip6/piControl_processed/amoc/CMIP6_{}_*{}*.nc\".format(model, member))\n",
    "    if len(amoc_files) != 1:\n",
    "        raise ValueError(\"{} files found for {}\".format(len(amoc_files), model))\n",
    "    ds_imp = xr.open_dataset(amoc_files[0], use_cftime=True)\n",
    "    # Rename \"rlat\" to \"lat\" if needed\n",
    "    if 'rlat' in list(ds_imp.dims):\n",
    "        ds_imp = ds_imp.rename({'rlat':'lat'})\n",
    "    # Select streamfunction variable\n",
    "    moc_var_name = \"msftmz\" if \"msftmz\" in list(ds_imp.data_vars) else \"msftyz\"\n",
    "    amoc_strf[model] = ds_imp[moc_var_name].drop(\"sector\")/rho0*1e-6 # Units: kg/s -> Sv\n",
    "    amoc_strf_detr[model] = proc.detrend_xr(amoc_strf[model], 2) # Quadratic detrending\n",
    "    \n",
    "    print(model)"
   ]
  },
  {
   "cell_type": "markdown",
   "id": "9",
   "metadata": {},
   "source": [
    "### Load data\n",
    "\n",
    "Mixed layer depth (mlotst) + sea ice concentration (siconc) for March"
   ]
  },
  {
   "cell_type": "code",
   "execution_count": null,
   "id": "10",
   "metadata": {},
   "outputs": [],
   "source": [
    "def load_cell_area(model_code):\n",
    "    model_grid = \"gn\"\n",
    "    if model_code == \"CESM2\": model_grid = \"gr\"\n",
    "    \n",
    "    areacello_path = glob.glob(\"/home/omehling/synda-CMIP/*/*/piControl/*/Ofx/areacello/{}/*/areacello*{}*.nc\".format(model_grid,model_code.replace('_','*')))\n",
    "    if len(areacello_path)==0:\n",
    "        areacello_path = glob.glob(\"/home/omehling/synda-CMIP/*/*/historical/*/Ofx/areacello/{}/*/areacello*{}*.nc\".format(model_grid,model_code.replace('_','*')))\n",
    "    return xr.open_dataset(areacello_path[0])[\"areacello\"]"
   ]
  },
  {
   "cell_type": "code",
   "execution_count": null,
   "id": "11",
   "metadata": {},
   "outputs": [],
   "source": [
    "siconc = {}\n",
    "siconc_detr = {}\n",
    "mlotst = {}\n",
    "mlotst_detr = {}\n",
    "\n",
    "for i, model_id in enumerate(sel_models):\n",
    "    member = model_list.loc[model_id,\"Member\"]\n",
    "    \n",
    "    # Load and detrend sic\n",
    "    filname_sic = glob.glob(\"/home/omehling/work/cmip6/piControl_processed/siconc_mar/CMIP6_{}*{}*r360x180*.nc\".format(model_id, member))\n",
    "    if len(filname_sic) != 1:\n",
    "        print(\"Warning: Skipping {} for siconc, {} files found instead of 1\".format(model_id, len(filname_sic)))\n",
    "        continue\n",
    "    sic_load = xr.open_dataset(filname_sic[0], use_cftime=True)[\"siconc\"]\n",
    "    siconc[model_id] = sic_load\n",
    "    siconc_detr[model_id] = proc.detrend_xr(sic_load, 2, keep_mean=True)\n",
    "    siconc_detr[model_id] = siconc_detr[model_id].where(siconc_detr[model_id]>0, 0)\n",
    "    siconc_detr[model_id] = siconc_detr[model_id].where(siconc_detr[model_id]<100, 100)\n",
    "    \n",
    "    # Load and detrend mlotst\n",
    "    filname_mld = glob.glob(\"/home/omehling/work/cmip6/piControl_processed/mlotst/CMIP6_{}*{}*r360x180*.nc\".format(model_id, member))\n",
    "    if len(filname_mld) != 1:\n",
    "        print(\"Warning: Skipping {} for mlotst, {} files found instead of 1\".format(model_id, len(filname_mld)))\n",
    "        continue\n",
    "    mld_load = xr.open_dataset(filname_mld[0], use_cftime=True)[\"mlotst\"]\n",
    "    mlotst[model_id] = mld_load\n",
    "    mlotst_detr[model_id] = proc.detrend_xr(mld_load, 2, keep_mean=True)\n",
    "    mlotst_detr[model_id] = mlotst_detr[model_id].where(mlotst_detr[model_id]>0, 0)\n",
    "    \n",
    "    print(model_id)"
   ]
  },
  {
   "cell_type": "markdown",
   "id": "12",
   "metadata": {},
   "source": [
    "Merge sea ice climatology"
   ]
  },
  {
   "cell_type": "code",
   "execution_count": null,
   "id": "13",
   "metadata": {},
   "outputs": [],
   "source": [
    "siconc_mar_mean = {}\n",
    "for model_id in sel_models:\n",
    "    siconc_mar_mean[model_id] = siconc[model_id].mean(\"time\")\n",
    "siconc_mar_mean_xr = xr.concat(list(siconc_mar_mean.values()), dim=\"model\")\n",
    "siconc_mar_mean_xr[\"model\"] = list(siconc_mar_mean.keys())"
   ]
  },
  {
   "cell_type": "markdown",
   "id": "14",
   "metadata": {},
   "source": [
    "Observational/Paleo datasets + Bathymetry:"
   ]
  },
  {
   "cell_type": "code",
   "execution_count": null,
   "id": "15",
   "metadata": {},
   "outputs": [],
   "source": [
    "# PaleoSST\n",
    "paleosst_sic = []\n",
    "for member_id in range(1,51):\n",
    "    paleosst_sic_member = xr.open_dataset(\"~/data/reconstructions/PaleoSST/processed/PaleoSST_SIC_1000-1849_R{:03d}_marchmean.nc\".format(member_id), use_cftime=True)\n",
    "    paleosst_sic_member = paleosst_sic_member.squeeze().expand_dims({\"member\": 1})\n",
    "    paleosst_sic_member[\"member\"] = [member_id]\n",
    "    paleosst_sic.append(paleosst_sic_member)\n",
    "paleosst_sic = xr.concat(paleosst_sic, dim=\"member\")[\"sic\"]"
   ]
  },
  {
   "cell_type": "code",
   "execution_count": null,
   "id": "16",
   "metadata": {},
   "outputs": [],
   "source": [
    "paleosst_sic_ensmean = paleosst_sic.mean(\"member\").rename({\"latitude\": \"lat\", \"longitude\": \"lon\"})\n",
    "paleosst_sic_ens05 = paleosst_sic.quantile(.05,\"member\").rename({\"latitude\": \"lat\", \"longitude\": \"lon\"})\n",
    "paleosst_sic_ens95 = paleosst_sic.quantile(.95,\"member\").rename({\"latitude\": \"lat\", \"longitude\": \"lon\"})"
   ]
  },
  {
   "cell_type": "code",
   "execution_count": null,
   "id": "17",
   "metadata": {},
   "outputs": [],
   "source": [
    "# \"Sea ice back to 1850\" (Walsh et al.) for comparison\n",
    "sic_g10010_pi = xr.open_dataset(\"/home/omehling/data/obs/G10010_V2/G10010_sibt1850_v2.0_monmean_1850-1879.nc\")[\"seaice_conc\"].isel(time=2)\n",
    "sic_g10010_pi = sic_g10010_pi.where(sic_g10010_pi<=110).rename({\"latitude\": \"lat\", \"longitude\": \"lon\"})"
   ]
  },
  {
   "cell_type": "code",
   "execution_count": null,
   "id": "18",
   "metadata": {},
   "outputs": [],
   "source": [
    "# Bathymetry\n",
    "bathy = xr.open_dataset(\"/home/omehling/data/bathymetry/GEBCO_2023_01deg.nc\")[\"elevation\"]\n",
    "bathy = proc.ds_to_180(bathy.where(bathy<=0))"
   ]
  },
  {
   "cell_type": "markdown",
   "id": "19",
   "metadata": {},
   "source": [
    "### Sea ice + mixed layer composites (Fig. 3a-d, S8)"
   ]
  },
  {
   "cell_type": "code",
   "execution_count": null,
   "id": "20",
   "metadata": {},
   "outputs": [],
   "source": [
    "for model_id in sel_models:\n",
    "    amoc_index = amoc_strf_detr[model_id].sel(lat=ref_lat, method=\"nearest\").sel(lev=slice(500,None)).max(\"lev\")\n",
    "    amoc_index_lf = proc.filter_xr(amoc_index, 70, detrend=False)\n",
    "\n",
    "    # Calc composites\n",
    "    idx_amoc_pos = np.where(amoc_index_lf>amoc_index_lf.mean()+amoc_index_lf.std())[0] # strong AMOC\n",
    "    idx_amoc_neg = np.where(amoc_index_lf<amoc_index_lf.mean()-amoc_index_lf.std())[0] # weak AMOC\n",
    "\n",
    "    comp_strong_sic = siconc_detr[model_id].isel(time=idx_amoc_pos).mean('time')\n",
    "    comp_strong_mld = mlotst_detr[model_id].isel(time=idx_amoc_pos).mean('time')\n",
    "    comp_weak_sic = siconc_detr[model_id].isel(time=idx_amoc_neg).mean('time')\n",
    "    comp_weak_mld = mlotst_detr[model_id].isel(time=idx_amoc_neg).mean('time')\n",
    "\n",
    "    # Plot\n",
    "    fig,axes = plt.subplots(2,1,figsize=(6,5),subplot_kw=dict(projection=ccrs.Miller()))\n",
    "    ice_cmap = sns.color_palette(\"ch:s=.05,rot=-.25\", 12)[:-2]\n",
    "    mask_regrid = ~siconc[model_id].isel(time=0, drop=True).isnull()\n",
    "    if model_id == \"CESM2\":\n",
    "        mask_regrid.values[:,320]=mask_regrid.values[:,321] # fix processing error for mask\n",
    "\n",
    "    ax = axes.flat[0]\n",
    "    c = proc.ds_to_180(comp_strong_sic.where(mask_regrid)).plot.contourf(ax=ax, transform=ccrs.PlateCarree(),add_colorbar=False,levels=np.arange(0,110,10),colors=ice_cmap)\n",
    "    cs = proc.ds_to_180(comp_strong_mld.where(mask_regrid)).plot.contour(ax=ax, transform=ccrs.PlateCarree(),levels=np.arange(200,2700,500),colors='k',linewidths=.8)\n",
    "    ax.set_extent([-80, 35, 40, 80], ccrs.PlateCarree())\n",
    "    ax.coastlines(lw=.4,color='C7')\n",
    "    plt.clabel(cs, [200,700,1200,1700], fontsize=7.5, inline_spacing=1)\n",
    "    ax.set(title=model_id+': strong AMOC')\n",
    "\n",
    "    ax=axes.flat[1]\n",
    "    c = proc.ds_to_180(comp_weak_sic.where(mask_regrid)).plot.contourf(ax=ax, transform=ccrs.PlateCarree(),add_colorbar=False,levels=np.arange(0,110,10),colors=ice_cmap)\n",
    "    cs = proc.ds_to_180(comp_weak_mld.where(mask_regrid)).plot.contour(ax=ax, transform=ccrs.PlateCarree(),levels=np.arange(200,2700,500),colors='k',linewidths=.8)\n",
    "    ax.set_extent([-80, 35, 40, 80], ccrs.PlateCarree())\n",
    "    ax.set(title=model_id+': weak AMOC')\n",
    "    ax.coastlines(lw=.4,color='C7')\n",
    "    plt.clabel(cs, [200,700,1200,1700], fontsize=7.5, inline_spacing=2)\n",
    "\n",
    "    cbar_ax = fig.add_axes([0.80, 0.2, 0.015, 0.6])\n",
    "    cbar = fig.colorbar(c, cax=cbar_ax, extend='both', ticks=np.arange(0,120,20))\n",
    "    cbar.set_label('Sea ice concentration [%]', fontsize=11)\n",
    "\n",
    "    fig.savefig(\"figures/\"+model_id+\"-seaice-mld.pdf\", bbox_inches='tight', dpi=300)\n",
    "    fig.savefig(\"figures/png/\"+model_id+\"-seaice-mld.png\", bbox_inches='tight', dpi=300)\n",
    "    \n",
    "    print(model_id)"
   ]
  },
  {
   "cell_type": "markdown",
   "id": "21",
   "metadata": {},
   "source": [
    "### Sea ice bias (Fig. 3e)"
   ]
  },
  {
   "cell_type": "code",
   "execution_count": null,
   "id": "22",
   "metadata": {},
   "outputs": [],
   "source": [
    "bathy_sel = bathy.sel(lat=slice(37,83), lon=slice(-83,58))"
   ]
  },
  {
   "cell_type": "code",
   "execution_count": null,
   "id": "23",
   "metadata": {},
   "outputs": [],
   "source": [
    "fig,ax = plt.subplots(figsize=(6,3),subplot_kw=dict(projection=ccrs.Miller()))\n",
    "ice_edge_threshold = 15\n",
    "\n",
    "#paleosst_si_edge_uncertainty = np.logical_and(paleosst_sic_ens95>.3, paleosst_sic_ens05<.3).astype(int)\n",
    "#paleosst_si_edge_uncertainty.where(paleosst_si_edge_uncertainty).plot(ax=ax,transform=ccrs.PlateCarree(), levels=[0.5], colors=[\"#aaaaaa\"], add_colorbar=False)\n",
    "line_colors = sns.color_palette(\"colorblind\", 9)\n",
    "for i, model_id in enumerate(siconc_mar_mean_xr.model):\n",
    "    proc.ds_to_180(siconc_mar_mean_xr.sel(model=model_id)).plot.contour(ax=ax,transform=ccrs.PlateCarree(),levels=[ice_edge_threshold],linewidths=1, colors=[line_colors[i]])#colors=\"C{}\".format(i))\n",
    "proc.ds_to_180(paleosst_sic_ensmean).plot.contour(ax=ax,transform=ccrs.PlateCarree(),levels=[ice_edge_threshold/100],linewidths=2,colors=\"k\")\n",
    "proc.ds_to_180(sic_g10010_pi).plot.contour(ax=ax,transform=ccrs.PlateCarree(),levels=[ice_edge_threshold],linewidths=2,colors=\"C7\")\n",
    "\n",
    "cbat = bathy.sel(lat=slice(37,83), lon=slice(-83,58)).plot.contourf(ax=ax, transform=ccrs.PlateCarree(), levels=[-3000,-2000,-1250,-1000,-650,-200,0], colors=sns.color_palette(\"Blues\",24,desat=0.7)[0:15:2][::-1], add_colorbar=False)\n",
    "ax.pcolormesh([-83,58],[37,83],[[1]],cmap=\"Greys\",alpha=.2,transform=ccrs.PlateCarree(), zorder=1.8)\n",
    "\n",
    "ax.add_feature(LAND, facecolor='#fafafa', zorder=2.5)\n",
    "ax.coastlines(color=\"#bbbbbb\", lw=.3, zorder=2.8)\n",
    "ax.set_extent([-80, 55, 40, 80], ccrs.PlateCarree())\n",
    "ax.set_title(\"\")\n",
    "handles = [plt.Line2D([0,1],[0,1],color=col,lw=1) for col in line_colors]\n",
    "handles.append(plt.Line2D([0,1],[0,1],color=\"k\",lw=2))\n",
    "handles.append(plt.Line2D([0,1],[0,1],color=\"C7\",lw=2))\n",
    "labels = list(siconc_mar_mean_xr.model.values)+[\"PaleoSST\", \"SIBT1850\"]\n",
    "\n",
    "divider = make_axes_locatable(ax)\n",
    "cax = divider.new_horizontal(size=\"2%\", pad=0.2, axes_class=plt.Axes)\n",
    "fig.add_axes(cax)\n",
    "cbar = fig.colorbar(cbat, cax=cax)\n",
    "cbar.set_label(label=\"Bathymetry [m]\", size=8.5)\n",
    "cbar.set_ticks(ticks=cbar.get_ticks(), labels=[int(i*-1) for i in cbar.get_ticks()])\n",
    "cax.tick_params(labelsize=8.5)\n",
    "ax.spines['geo'].set_linewidth(0.5)\n",
    "\n",
    "fig.legend(handles, labels, ncols=4, bbox_to_anchor=(0.5,0.1), loc=\"upper center\", frameon=False, columnspacing=0.95);\n",
    "\n",
    "fig.savefig(\"figures/Sea_ice_bias_PI.pdf\",bbox_inches=\"tight\")\n",
    "fig.savefig(\"figures/png/Sea_ice_bias_PI.png\",bbox_inches=\"tight\",dpi=300)"
   ]
  },
  {
   "cell_type": "code",
   "execution_count": null,
   "id": "24",
   "metadata": {},
   "outputs": [],
   "source": []
  }
 ],
 "metadata": {
  "kernelspec": {
   "display_name": "AMOC-CMIP6 (py3.10.6)",
   "language": "python",
   "name": "amoc-cmip6"
  },
  "language_info": {
   "codemirror_mode": {
    "name": "ipython",
    "version": 3
   },
   "file_extension": ".py",
   "mimetype": "text/x-python",
   "name": "python",
   "nbconvert_exporter": "python",
   "pygments_lexer": "ipython3",
   "version": "3.10.6"
  }
 },
 "nbformat": 4,
 "nbformat_minor": 5
}
