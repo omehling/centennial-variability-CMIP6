{
 "cells": [
  {
   "cell_type": "code",
   "execution_count": null,
   "id": "0",
   "metadata": {},
   "outputs": [],
   "source": [
    "%load_ext autoreload\n",
    "%autoreload 2"
   ]
  },
  {
   "cell_type": "code",
   "execution_count": null,
   "id": "1",
   "metadata": {},
   "outputs": [],
   "source": [
    "import numpy as np\n",
    "import xarray as xr\n",
    "import matplotlib.pyplot as plt\n",
    "import pandas as pd\n",
    "import seaborn as sns\n",
    "import glob\n",
    "import cartopy.crs as ccrs\n",
    "import cmocean"
   ]
  },
  {
   "cell_type": "code",
   "execution_count": null,
   "id": "2",
   "metadata": {},
   "outputs": [],
   "source": [
    "import sys\n",
    "sys.path.append(\"scripts/\")\n",
    "import processing as proc\n",
    "import spectrumfct as spectrum"
   ]
  },
  {
   "cell_type": "code",
   "execution_count": null,
   "id": "3",
   "metadata": {},
   "outputs": [],
   "source": [
    "from nitime.algorithms.spectral import multi_taper_csd"
   ]
  },
  {
   "cell_type": "code",
   "execution_count": null,
   "id": "4",
   "metadata": {},
   "outputs": [],
   "source": [
    "rho0 = 1026 # Reference density [kg/m^3]"
   ]
  },
  {
   "cell_type": "code",
   "execution_count": null,
   "id": "5",
   "metadata": {},
   "outputs": [],
   "source": [
    "ref_lat = 40 # Reference latitude for AMOC calculations (°N)"
   ]
  },
  {
   "cell_type": "markdown",
   "id": "6",
   "metadata": {},
   "source": [
    "### Import AMOC fields"
   ]
  },
  {
   "cell_type": "code",
   "execution_count": null,
   "id": "7",
   "metadata": {},
   "outputs": [],
   "source": [
    "model_list = pd.read_csv(\"model_list.csv\").set_index(\"Model\")\n",
    "sel_models = list(model_list.index)"
   ]
  },
  {
   "cell_type": "code",
   "execution_count": null,
   "id": "8",
   "metadata": {},
   "outputs": [],
   "source": [
    "# Import streamfunction fields\n",
    "amoc_strf = {}\n",
    "amoc_strf_detr = {}\n",
    "for model in sel_models:\n",
    "    member = model_list.loc[model,\"Member\"]\n",
    "    amoc_files = glob.glob(\"/home/omehling/work/cmip6/piControl_processed/amoc/CMIP6_{}_*{}*.nc\".format(model, member))\n",
    "    if len(amoc_files) != 1:\n",
    "        raise ValueError(\"{} files found for {}\".format(len(amoc_files), model))\n",
    "    ds_imp = xr.open_dataset(amoc_files[0], use_cftime=True)\n",
    "    # Rename \"rlat\" to \"lat\" if needed\n",
    "    if 'rlat' in list(ds_imp.dims):\n",
    "        ds_imp = ds_imp.rename({'rlat':'lat'})\n",
    "    # Select streamfunction variable\n",
    "    moc_var_name = \"msftmz\" if \"msftmz\" in list(ds_imp.data_vars) else \"msftyz\"\n",
    "    amoc_strf[model] = ds_imp[moc_var_name].drop(\"sector\")/rho0*1e-6 # Units: kg/s -> Sv\n",
    "    amoc_strf_detr[model] = proc.detrend_xr(amoc_strf[model], 2) # Quadratic detrending\n",
    "    \n",
    "    print(model)"
   ]
  },
  {
   "cell_type": "markdown",
   "id": "9",
   "metadata": {},
   "source": [
    "### AMOC time series\n",
    "\n",
    "(Suppl. Fig. S4)"
   ]
  },
  {
   "cell_type": "code",
   "execution_count": null,
   "id": "10",
   "metadata": {},
   "outputs": [],
   "source": [
    "fig, axes = plt.subplots(3, 3, figsize=(15,5),sharex=True)\n",
    "for model_id, ax in zip(sel_models, axes.flat):\n",
    "    amoc_index = amoc_strf_detr[model_id].sel(lat=ref_lat, method=\"nearest\").sel(lev=slice(500,None)).max(\"lev\")\n",
    "    amoc_index_lf = proc.filter_xr(amoc_index, 70, detrend=False)\n",
    "    amoc_mean = amoc_index.mean(\"time\").item()\n",
    "    amoc_std_lf = amoc_index_lf.std(\"time\").item()\n",
    "    #print('{}: std={:.2f}'.format(model_id, amoc_std_lf))\n",
    "\n",
    "    ax.plot(amoc_index, lw=.3, c='C7')\n",
    "    ax.plot(amoc_index_lf, lw=1, c='k')\n",
    "    ax.text(.98,.1,r'$\\sigma_{LF}=$'+'{:.2f} Sv'.format(amoc_std_lf),transform=ax.transAxes,ha='right')\n",
    "    ax.set(xlim=(0,2000),xlabel='',ylabel='',ylim=[amoc_mean-5.5, amoc_mean+5.5])\n",
    "    ax.plot(amoc_index_lf.where(amoc_index_lf<(amoc_mean-amoc_std_lf)), c='C0')\n",
    "    ax.plot(amoc_index_lf.where(amoc_index_lf>(amoc_mean+amoc_std_lf)), c='C3')\n",
    "    ax.set_title(model_id,y=.9)\n",
    "    ax.set_yticks(np.arange(int(((amoc_mean-5.5)//2+1)*2), int(((amoc_mean+5.5)//2+1)*2), 2))\n",
    "    ax.set_xticks(np.arange(0,2100,500))\n",
    "    sns.despine()\n",
    "fig.supylabel('AMOC strength at 26.5°N [Sv]',x=.09,size=10)\n",
    "fig.supxlabel('Time [model years]',size=10,y=0.0);\n",
    "#fig.suptitle('CMIP6 piControl AMOC timeseries at low-frequency maximum',y=.96)\n",
    "\n",
    "fig.savefig('figures/Suppl_AMOC-timeseries.pdf',bbox_inches='tight')"
   ]
  },
  {
   "cell_type": "code",
   "execution_count": null,
   "id": "11",
   "metadata": {},
   "outputs": [],
   "source": [
    "fig, axes = plt.subplots(9, 1, figsize=(8,12),sharex=True)\n",
    "for model_id, ax in zip(sel_models, axes.flat):\n",
    "    amoc_index = amoc_strf_detr[model_id].sel(lat=ref_lat, method=\"nearest\").sel(lev=slice(500,None)).max(\"lev\")\n",
    "    amoc_index_lf = proc.filter_xr(amoc_index, 70, detrend=False)\n",
    "    amoc_mean = amoc_index.mean(\"time\").item()\n",
    "    amoc_std_lf = amoc_index_lf.std(\"time\").item()\n",
    "    #print('{}: std={:.2f}'.format(model_id, amoc_std_lf))\n",
    "\n",
    "    ax.plot(amoc_index, lw=.3, c='C7')\n",
    "    ax.plot(amoc_index_lf, lw=1.4, c='k')\n",
    "    ax.text(.98,.1,r'$\\sigma_{LF}=$'+'{:.2f} Sv'.format(amoc_std_lf),transform=ax.transAxes,ha='right')\n",
    "    ax.set(xlim=(0,2000),xlabel='',ylabel='',ylim=[amoc_mean-5.5, amoc_mean+5.5])\n",
    "    ax.plot(amoc_index_lf.where(amoc_index_lf<(amoc_mean-amoc_std_lf)), c='C0', lw=1.4)\n",
    "    ax.plot(amoc_index_lf.where(amoc_index_lf>(amoc_mean+amoc_std_lf)), c='C3', lw=1.4)\n",
    "    ax.set_title(model_id,y=.86,size=11)\n",
    "    ax.set_yticks(np.arange(int(((amoc_mean-5.5)//2+1)*2), int(((amoc_mean+5.5)//2+1)*2), 2))\n",
    "    ax.set_xticks(np.arange(0,2100,500))\n",
    "    sns.despine()\n",
    "fig.supylabel('AMOC strength at 26.5°N [Sv]',x=.06,size=10)\n",
    "fig.supxlabel('Time [model years]',size=10,y=0.07);\n",
    "#fig.suptitle('CMIP6 piControl AMOC timeseries at low-frequency maximum',y=.96)\n",
    "\n",
    "fig.savefig('figures/Suppl_AMOC-timeseries-stacked.pdf',bbox_inches='tight')"
   ]
  },
  {
   "cell_type": "markdown",
   "id": "12",
   "metadata": {},
   "source": [
    "### AMOC power spectra for each latitude\n",
    "\n",
    "(Suppl. Fig. S2)"
   ]
  },
  {
   "cell_type": "code",
   "execution_count": null,
   "id": "13",
   "metadata": {},
   "outputs": [],
   "source": [
    "def xrspec(ts, sampling_interval=1):\n",
    "    spec=spectrum.MTMSpectrum(ts, sampling_interval=sampling_interval)\n",
    "    spec.estimate(NW=3)\n",
    "    return xr.DataArray(\n",
    "        data=spec.psd,\n",
    "        coords={'freq':spec.freqs}\n",
    "    )\n",
    "\n",
    "def xrspec_conf(ts, ci=.99, dfsmooth=.05, sampling_interval=1):\n",
    "    spec=spectrum.MTMSpectrum(ts, sampling_interval=sampling_interval)\n",
    "    spec.estimate(NW=3)\n",
    "    spec.fit(dfsmooth=dfsmooth)\n",
    "    lower_ci, upper_ci = spec.getCIs(ci=ci)\n",
    "    return xr.DataArray(\n",
    "        data=upper_ci,\n",
    "        coords={'freq':spec.freqs}\n",
    "    )"
   ]
  },
  {
   "cell_type": "code",
   "execution_count": null,
   "id": "14",
   "metadata": {},
   "outputs": [],
   "source": [
    "latspecs={}\n",
    "latspecs_conf={}\n",
    "\n",
    "for i, model_id in enumerate(sel_models):\n",
    "    ds_latamoc = amoc_strf_detr[model_id].sel(lat=slice(-34,80)).sel(lev=slice(500,None)).max(\"lev\").dropna('lat')\n",
    "\n",
    "    # Spectrum by lat\n",
    "    ds_latspec=xr.apply_ufunc(\n",
    "        xrspec,\n",
    "        ds_latamoc,\n",
    "        input_core_dims=[[\"time\"]],\n",
    "        exclude_dims=set((\"time\",)),\n",
    "        output_core_dims=[[\"freq\"]],\n",
    "        vectorize=True\n",
    "    )\n",
    "    ds_latspec['freq']=xrspec(ds_latamoc.isel(lat=0).values).freq\n",
    "    # Upper CI by lat\n",
    "    ds_latspec_conf=xr.apply_ufunc(\n",
    "        xrspec_conf,\n",
    "        ds_latamoc,\n",
    "        input_core_dims=[[\"time\"]],\n",
    "        exclude_dims=set((\"time\",)),\n",
    "        output_core_dims=[[\"freq\"]],\n",
    "        vectorize=True\n",
    "    )\n",
    "    ds_latspec_conf['freq']=xrspec(ds_latamoc.isel(lat=0).values).freq\n",
    "    # Add to list\n",
    "    latspecs[model_id]=ds_latspec\n",
    "    latspecs_conf[model_id]=ds_latspec_conf\n",
    "\n",
    "    print(model_id)"
   ]
  },
  {
   "cell_type": "code",
   "execution_count": null,
   "id": "15",
   "metadata": {},
   "outputs": [],
   "source": [
    "with plt.rc_context({\"hatch.color\": \"#777777\", \"hatch.linewidth\": 0.3}):\n",
    "    fig, axes = plt.subplots(3, 3, figsize=(9, 6),sharex=True,sharey=True)\n",
    "    for model_id, ax in zip(sel_models, axes.flat):\n",
    "        latspec_sel = latspecs[model_id].isel(freq=slice(1,None))\n",
    "        c = ax.pcolormesh(1/latspec_sel.freq.values, latspec_sel.lat, latspec_sel.values, cmap='cmo.dense', vmin=0)\n",
    "        #c = latspecs[model_id].isel(freq=slice(1,None)).plot(x='freq', cmap='cmo.dense', vmin=0, ax=ax, add_colorbar=False)\n",
    "        signif_contours = (latspecs[model_id].where(latspecs[model_id]>latspecs_conf[model_id])*0+1).fillna(0).isel(freq=slice(1,None))\n",
    "        ax.contourf(1/latspec_sel.freq.values, latspec_sel.lat, signif_contours.values,\n",
    "                    levels=[-1,0,1], hatches=[None,\"....\",None], alpha=0, colors=None)    \n",
    "        #signif_contours.plot.contour(x='freq',levels=[.5],colors='k',linewidths=.5,ax=ax)\n",
    "        #signif_contours.plot.contourf(levels=[-1,0,1], hatches=[None,\"....\",None], alpha=0, colors=None, add_colorbar=False, ax=ax)    \n",
    "        #latspecs[model_id].isel(freq=slice(1,None)).plot(x='freq', cmap='cmo.dense', alpha=0.6, vmin=0, ax=ax, add_colorbar=False)\n",
    "        plt.colorbar(c)\n",
    "\n",
    "        ax.axhline(40, c=\"k\", lw=.7, ls=\"--\")\n",
    "        ax.set(xlabel=\"\", ylabel=\"\", yticks=np.arange(-20,70,20), xscale='log',xlim=(1000,10))#xlim=(1/1000,1/10))\n",
    "        ax.set_title(model_id, size=10)\n",
    "\n",
    "    fig.supylabel('Latitude [°N]',x=0.05,size=10)\n",
    "    fig.supxlabel('Frequency [model years]',size=10,y=0.02);\n",
    "    fig.savefig(\"figures/Suppl_Spectra_latitude.png\", bbox_inches=\"tight\", dpi=400)"
   ]
  },
  {
   "cell_type": "markdown",
   "id": "16",
   "metadata": {},
   "source": [
    "### AMOC spectra at 40°N (Fig. 1)"
   ]
  },
  {
   "cell_type": "code",
   "execution_count": null,
   "id": "17",
   "metadata": {},
   "outputs": [],
   "source": [
    "fig, axes = plt.subplots(3, 3, figsize=(10,7), sharex=True, sharey=True)\n",
    "cpal=sns.color_palette(\"husl\", len(sel_models))\n",
    "for i, model_id in enumerate(sel_models):\n",
    "    ax=axes.flat[i]\n",
    "\n",
    "    amoc_index = amoc_strf_detr[model_id].sel(lat=ref_lat, method=\"nearest\").sel(lev=slice(500,None)).max(\"lev\")\n",
    "    amoc_spec = spectrum.MTMSpectrum(amoc_index.values, sampling_interval=1.)\n",
    "    amoc_spec.estimate(NW=3)\n",
    "    amoc_spec.plot_spectrum(ax=ax, x='period', lw=.3, c='#aaaaaa')\n",
    "    amoc_spec.fit(dfsmooth=.05)\n",
    "    _, upper_ci = amoc_spec.getCIs(.99)\n",
    "    amoc_spec.plot_CIs(.99, 'upper', c='k', ls=':', x='period', ax=ax, lw=1)\n",
    "    masked_psd = np.ma.masked_less(amoc_spec.psd, upper_ci)\n",
    "    ax.plot(1/amoc_spec.freqs[1:], masked_psd[1:], c=cpal[i], lw=2)\n",
    "\n",
    "    ax.axvspan(250, 100, color='#f2f2f2')\n",
    "    ax.set(xlim=(2000,2), xlabel='', ylabel='')\n",
    "    ax.set_title(model_id,y=.98)\n",
    "fig.subplots_adjust(hspace=.15, wspace=.1)\n",
    "fig.supxlabel('Period [yr]', fontsize=10, y=.04)\n",
    "fig.supylabel('Spectral power [Sv$^2$]', fontsize=10, x=.05)\n",
    "sns.despine()\n",
    "fig.savefig('figures/amoc-spectra-1000ymodels.pdf', bbox_inches='tight')"
   ]
  },
  {
   "cell_type": "markdown",
   "id": "18",
   "metadata": {},
   "source": [
    "### AMOC coherence by latitude\n",
    "\n",
    "(Suppl. Fig. S3)"
   ]
  },
  {
   "cell_type": "code",
   "execution_count": null,
   "id": "19",
   "metadata": {},
   "outputs": [],
   "source": [
    "csd_amoc = {}\n",
    "for i, model_id in enumerate(sel_models):\n",
    "    ds_latamoc = amoc_strf_detr[model_id].sel(lat=slice(-34,80)).sel(lev=slice(500,None)).max(\"lev\").dropna('lat')\n",
    "    cfreq, csd = multi_taper_csd(np.asarray([\n",
    "            ds_latamoc.sel(lat=ref_lat,method='nearest').values,\n",
    "            ds_latamoc.sel(lat=26.5,method='nearest')\n",
    "        ]), Fs=1., NW=3) # one test iteration\n",
    "    \n",
    "    csd_amoc_sel = np.zeros((len(ds_latamoc.lat),2,2,len(cfreq)), dtype=np.complex64)\n",
    "    for i, sel_lat in enumerate(ds_latamoc.lat.values):\n",
    "        cfreq, csd = multi_taper_csd(np.asarray([\n",
    "            ds_latamoc.sel(lat=ref_lat,method='nearest').values,\n",
    "            ds_latamoc.sel(lat=sel_lat,method='nearest')\n",
    "        ]), Fs=1., NW=3)\n",
    "        csd_amoc_sel[i,:,:,:] = csd[:,:,:]\n",
    "    freq_sel = np.where(np.logical_and(cfreq>1/150, cfreq<1/100))\n",
    "    csd_amoc_sel = np.squeeze(np.mean(csd_amoc_sel[:,:,:,freq_sel], axis=4))\n",
    "    csd_amoc[model_id] = csd_amoc_sel\n",
    "    \n",
    "    print(model_id)"
   ]
  },
  {
   "cell_type": "code",
   "execution_count": null,
   "id": "20",
   "metadata": {},
   "outputs": [],
   "source": [
    "fig, axes = plt.subplots(2,1,figsize=(6,7), sharex=True)\n",
    "cpal = sns.color_palette(\"husl\", len(sel_models))\n",
    "for i, model_id in enumerate(sel_models):\n",
    "    lat_sel = amoc_strf_detr[model_id][\"lat\"].sel(lat=slice(-34,80)).dropna('lat')\n",
    "    coh_amoc = np.abs(csd_amoc[model_id][:,0,1]**2) / np.real(csd_amoc[model_id][:,0,0]*csd_amoc[model_id][:,1,1])\n",
    "    coh_amoc = xr.DataArray(coh_amoc, coords={\"lat\": lat_sel})\n",
    "    coh_amoc.sel(lat=slice((-30 if model_id==\"CanESM5\" else -34),55)).plot(label=model_id, ax=axes[0], c=cpal[i])\n",
    "    angle_amoc = np.angle(csd_amoc[model_id][:,0,1])/np.pi*180\n",
    "    angle_amoc = xr.DataArray(angle_amoc, coords={\"lat\": lat_sel})\n",
    "    angle_amoc.sel(lat=slice((-30 if model_id==\"CanESM5\" else -34),55)).plot(ax=axes[1], c=cpal[i])\n",
    "#axes[0].legend()\n",
    "axes[0].axhline(1, c=\"k\", lw=.7)\n",
    "axes[0].axvline(40, c=\"k\", lw=.7)\n",
    "axes[0].set(ylim=(0,1.05), xlim=(-34,55), xlabel=\"\", ylabel=\"Coherence with AMOC at 40°N\")\n",
    "axes[0].set_title(\"AMOC strength: Coherence\")\n",
    "axes[1].axhline(0, c=\"k\", lw=.7)\n",
    "axes[1].axvline(40, c=\"k\", lw=.7)\n",
    "axes[1].set(ylim=(-90,90), yticks=np.arange(-90,100,30), xlim=(-34,55), xlabel=\"Latitude [°N]\", ylabel=\"Angle w.r.t. AMOC at 40°N\")\n",
    "axes[1].set_title(\"AMOC strength: Angle\")\n",
    "fig.legend(bbox_to_anchor=(0.92,0.5), loc=\"center left\", frameon=False)\n",
    "sns.despine()\n",
    "\n",
    "fig.savefig(\"figures/Suppl_AMOC_coherence.pdf\", bbox_inches=\"tight\")"
   ]
  },
  {
   "cell_type": "code",
   "execution_count": null,
   "id": "21",
   "metadata": {},
   "outputs": [],
   "source": []
  }
 ],
 "metadata": {
  "kernelspec": {
   "display_name": "AMOC-CMIP6 (py3.10.6)",
   "language": "python",
   "name": "amoc-cmip6"
  },
  "language_info": {
   "codemirror_mode": {
    "name": "ipython",
    "version": 3
   },
   "file_extension": ".py",
   "mimetype": "text/x-python",
   "name": "python",
   "nbconvert_exporter": "python",
   "pygments_lexer": "ipython3",
   "version": "3.10.6"
  }
 },
 "nbformat": 4,
 "nbformat_minor": 5
}
