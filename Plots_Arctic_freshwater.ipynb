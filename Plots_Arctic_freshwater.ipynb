{
 "cells": [
  {
   "cell_type": "code",
   "execution_count": null,
   "id": "0",
   "metadata": {},
   "outputs": [],
   "source": [
    "%load_ext autoreload\n",
    "%autoreload 2"
   ]
  },
  {
   "cell_type": "code",
   "execution_count": null,
   "id": "1",
   "metadata": {},
   "outputs": [],
   "source": [
    "import numpy as np\n",
    "import xarray as xr\n",
    "import matplotlib.pyplot as plt\n",
    "import pandas as pd\n",
    "import seaborn as sns\n",
    "import glob\n",
    "import cartopy.crs as ccrs\n",
    "import cmocean\n",
    "from cartopy.feature import LAND"
   ]
  },
  {
   "cell_type": "code",
   "execution_count": null,
   "id": "2",
   "metadata": {},
   "outputs": [],
   "source": [
    "from eofs.xarray import Eof"
   ]
  },
  {
   "cell_type": "code",
   "execution_count": null,
   "id": "3",
   "metadata": {},
   "outputs": [],
   "source": [
    "import sys\n",
    "sys.path.append(\"scripts/\")\n",
    "import processing as proc\n",
    "import spectrumfct as spectrum\n",
    "import statsfct as stats"
   ]
  },
  {
   "cell_type": "code",
   "execution_count": null,
   "id": "4",
   "metadata": {},
   "outputs": [],
   "source": [
    "rho0 = 1026 # Reference density [kg/m^3]"
   ]
  },
  {
   "cell_type": "code",
   "execution_count": null,
   "id": "5",
   "metadata": {},
   "outputs": [],
   "source": [
    "ref_lat = 40 # Reference latitude for AMOC calculations (°N)"
   ]
  },
  {
   "cell_type": "code",
   "execution_count": null,
   "id": "6",
   "metadata": {},
   "outputs": [],
   "source": [
    "lowpass_cutoff = 70"
   ]
  },
  {
   "cell_type": "markdown",
   "id": "7",
   "metadata": {},
   "source": [
    "## Imports\n",
    "\n",
    "### AMOC timeseries"
   ]
  },
  {
   "cell_type": "code",
   "execution_count": null,
   "id": "8",
   "metadata": {},
   "outputs": [],
   "source": [
    "model_list = pd.read_csv(\"model_list.csv\").set_index(\"Model\")\n",
    "sel_models = list(model_list.index)"
   ]
  },
  {
   "cell_type": "code",
   "execution_count": null,
   "id": "9",
   "metadata": {},
   "outputs": [],
   "source": [
    "# Import streamfunction fields\n",
    "amoc_strf = {}\n",
    "amoc_strf_detr = {}\n",
    "amoc_40n_detr = {}\n",
    "for model in sel_models:\n",
    "    member = model_list.loc[model,\"Member\"]\n",
    "    amoc_files = glob.glob(\"/home/omehling/work/cmip6/piControl_processed/amoc/CMIP6_{}_*{}*.nc\".format(model, member))\n",
    "    if len(amoc_files) != 1:\n",
    "        raise ValueError(\"{} files found for {}\".format(len(amoc_files), model))\n",
    "    ds_imp = xr.open_dataset(amoc_files[0], use_cftime=True)\n",
    "    # Rename \"rlat\" to \"lat\" if needed\n",
    "    if 'rlat' in list(ds_imp.dims):\n",
    "        ds_imp = ds_imp.rename({'rlat':'lat'})\n",
    "    # Select streamfunction variable\n",
    "    moc_var_name = \"msftmz\" if \"msftmz\" in list(ds_imp.data_vars) else \"msftyz\"\n",
    "    amoc_strf[model] = ds_imp[moc_var_name].drop(\"sector\")/rho0*1e-6 # Units: kg/s -> Sv\n",
    "    amoc_strf_detr[model] = proc.detrend_xr(amoc_strf[model], 2) # Quadratic detrending\n",
    "    amoc_40n_detr[model] = amoc_strf_detr[model].sel(lat=ref_lat, method=\"nearest\").sel(lev=slice(500,None)).max(\"lev\")\n",
    "    \n",
    "    print(model)"
   ]
  },
  {
   "cell_type": "markdown",
   "id": "10",
   "metadata": {},
   "source": [
    "### FW content & SSH fields"
   ]
  },
  {
   "cell_type": "code",
   "execution_count": null,
   "id": "11",
   "metadata": {},
   "outputs": [],
   "source": [
    "def load_cell_area(model_code):\n",
    "    model_grid = \"gn\"\n",
    "    if model_code == \"CESM2\": model_grid = \"gr\"\n",
    "    \n",
    "    areacello_path = glob.glob(\"/home/omehling/synda-CMIP/*/*/piControl/*/Ofx/areacello/{}/*/areacello*{}*.nc\".format(model_grid,model_code.replace('_','*')))\n",
    "    if len(areacello_path)==0:\n",
    "        areacello_path = glob.glob(\"/home/omehling/synda-CMIP/*/*/historical/*/Ofx/areacello/{}/*/areacello*{}*.nc\".format(model_grid,model_code.replace('_','*')))\n",
    "    return xr.open_dataset(areacello_path[0])[\"areacello\"]"
   ]
  },
  {
   "cell_type": "code",
   "execution_count": null,
   "id": "12",
   "metadata": {},
   "outputs": [],
   "source": [
    "fwc = {}\n",
    "fwc_detr = {}\n",
    "areacello = {}\n",
    "\n",
    "for i, model_id in enumerate(sel_models):\n",
    "    member = model_list.loc[model_id,\"Member\"]\n",
    "    filename_surf = glob.glob(\"/work/users/omehling/cmip6/piControl_salinity/fwc_ao/fwc_Omon_{}_*{}*.nc\".format(model_id, member))\n",
    "    if len(filename_surf) != 1:\n",
    "        print(\"Warning: Skipping {}, {} files found instead of 1\".format(model_id, len(filename_surf)))\n",
    "        continue\n",
    "    ds_load = xr.open_dataset(filename_surf[0], use_cftime=True).rename({'so':'fwc'})\n",
    "    fwc[model_id] = ds_load['fwc']\n",
    "    fwc_detr[model_id] = proc.detrend_xr(fwc[model_id], 2, keep_mean=True)\n",
    "    \n",
    "    areacello[model_id] = load_cell_area(model_id)\n",
    "    print(model_id)"
   ]
  },
  {
   "cell_type": "code",
   "execution_count": null,
   "id": "13",
   "metadata": {},
   "outputs": [],
   "source": [
    "zos_raw = {}\n",
    "zos_detr = {}\n",
    "\n",
    "for i, model_id in enumerate(sel_models):\n",
    "    member = model_list.loc[model_id,\"Member\"]\n",
    "    filname_zos = glob.glob(\"/home/omehling/work/cmip6/piControl_processed/zos/CMIP6_{}*{}*r360x180*.nc\".format(model_id, member))\n",
    "    if len(filname_zos) != 1:\n",
    "        print(\"Warning: Skipping {}, {} files found instead of 1\".format(model_id, len(filname_zos)))\n",
    "        continue\n",
    "    zos_load = xr.open_dataset(filname_zos[0], use_cftime=True)[\"zos\"]\n",
    "    zos_raw[model_id] = zos_load\n",
    "    zos_detr[model_id] = proc.detrend_xr(zos_load, 2, keep_mean=True)\n",
    "    \n",
    "    print(model_id)"
   ]
  },
  {
   "cell_type": "markdown",
   "id": "14",
   "metadata": {},
   "source": [
    "### Freshwater transport timeseries"
   ]
  },
  {
   "cell_type": "code",
   "execution_count": null,
   "id": "15",
   "metadata": {},
   "outputs": [],
   "source": [
    "fwt_path = \"/home/omehling/work/cm6-amoc/calc-fwt/\"\n",
    "\n",
    "def load_fwt(model_id):\n",
    "    model_code = model_list.loc[model_id,\"Abbrev\"]\n",
    "    filenames_fwt = sorted(glob.glob(fwt_path+\"fwt_\"+model_code+\"/fwt_*.csv\"))\n",
    "    df_fwts = []\n",
    "    for fn in filenames_fwt:\n",
    "        df_fwts.append(pd.read_csv(fn))\n",
    "    df_fwts = pd.concat(df_fwts, axis=0).sort_values(\"time\")\n",
    "    start_date = df_fwts[\"time\"].iloc[0].split(\"-\")\n",
    "    start_date = \"{}-{}\".format(start_date[0], start_date[1])\n",
    "    df_fwts[\"time\"] = xr.cftime_range(start=start_date, periods=len(df_fwts), freq=\"M\")\n",
    "    df_fwts = df_fwts.set_index(\"time\")\n",
    "    \n",
    "    return df_fwts"
   ]
  },
  {
   "cell_type": "code",
   "execution_count": null,
   "id": "16",
   "metadata": {},
   "outputs": [],
   "source": [
    "fwt_liq = {}\n",
    "fwt_liq_ann_detr = {}\n",
    "for model in sel_models:\n",
    "    fwt_liq[model] = load_fwt(model)\n",
    "    fwt_liq_ann_detr[model] = proc.detrend_xr(fwt_liq[model].to_xarray().groupby(\"time.year\").mean(\"time\"), 2, time_dim=\"year\")\n",
    "    print(model)"
   ]
  },
  {
   "cell_type": "markdown",
   "id": "17",
   "metadata": {},
   "source": [
    "## Processing\n",
    "\n",
    "### FW content EOFs"
   ]
  },
  {
   "cell_type": "code",
   "execution_count": null,
   "id": "18",
   "metadata": {},
   "outputs": [],
   "source": [
    "def ao_mask(model_code, include_baffin=False):\n",
    "    areacello_model = load_cell_area(model_code)\n",
    "    # Determine model grid properties\n",
    "    lat_name, lon_name = proc.lat_lon_name(areacello_model)\n",
    "    lon360 = (areacello_model[lon_name].max().item()>190)\n",
    "    \n",
    "    ao_east = np.array([[0., 80.], [25, 80], [25, 68], [40,61], [180,66.5], [180,90], [0,90]])\n",
    "    if include_baffin:\n",
    "        # Includes Baffin Bay up to Davis Strait\n",
    "        ao_west = np.array([[-180,90], [-180,66.5], [-160,66.5], [-87,66.5], [-85,70], [-40,70], [-30., 80.], [0,80], [0,90]])\n",
    "    else:\n",
    "        # Otherwise, delimit Arctic Ocean approximately by the CAA gateways\n",
    "        ao_west = np.array([[-180,90], [-180,66.5], [-160,66.5], [-87,66.5], [-80,70], [-80,77], [-75,80], [-40,80], [-40,70], [-30., 80.], [0,80], [0,90]])\n",
    "    ao_reg = regionmask.Regions([ao_east, ao_west], names=[\"West\", \"East\"], abbrevs=[\"AOw\", \"AOe\"])\n",
    "    ao_regmask = ao_reg.mask(areacello_model, lon_name=lon_name, lat_name=lat_name, wrap_lon=lon360)\n",
    "    \n",
    "    return ~ao_regmask.isnull()"
   ]
  },
  {
   "cell_type": "code",
   "execution_count": null,
   "id": "19",
   "metadata": {},
   "outputs": [],
   "source": [
    "fwc_eofs = {}\n",
    "fwc_pcs = {}\n",
    "fwc_pc_eigenvalues = {}\n",
    "fwc_pc_variance = {}\n",
    "fwc_total_detr = {}\n",
    "\n",
    "for model_id in sel_models:\n",
    "    # Select and center FWC\n",
    "    areacello_ao = areacello[model_id].where(ao_mask(model_id),drop=True)\n",
    "    space_dims = list(set(fwc_detr[model_id].dims)-set([\"time\"]))\n",
    "    fwc_ao = fwc_detr[model_id].where(ao_mask(model_id),drop=True).transpose(\"time\", *list(areacello_ao.dims))\n",
    "    fwc_total_detr[model_id] = (fwc_ao*areacello_ao).sum(space_dims) # non-centered data needed for total FWC\n",
    "    fwc_total_detr[model_id] = fwc_total_detr[model_id].rename({\"time\": \"year\"})*1e-9\n",
    "    fwc_total_detr[model_id][\"year\"] = [t.year for t in fwc_total_detr[model_id].year.values]\n",
    "    \n",
    "    # Compute & save EOFs\n",
    "    if model_id == \"CESM2\":\n",
    "        fwc_eof_solver = Eof(fwc_ao, weights=np.sqrt(areacello_ao.fillna(0)))\n",
    "    else:\n",
    "        fwc_eof_solver = Eof(fwc_ao.drop(proc.lat_lon_name(areacello[model_id])), weights=np.sqrt(areacello_ao.drop(proc.lat_lon_name(areacello[model_id])).fillna(0)))\n",
    "    eof_signs = np.sign(fwc_eof_solver.eofs(neofs=10).weighted(np.sqrt(areacello_ao.fillna(0))).mean(list(fwc_eof_solver.eofs(neofs=1).sel(mode=0).dims)))\n",
    "    fwc_eofs[model_id] = fwc_eof_solver.eofs(neofs=10)*eof_signs\n",
    "    fwc_pcs[model_id] = fwc_eof_solver.pcs(npcs=10, pcscaling=2).rename({\"time\": \"year\"})*eof_signs*1e-9\n",
    "    fwc_pcs[model_id][\"year\"] = [t.year for t in fwc_pcs[model_id].year.values]\n",
    "    fwc_pc_eigenvalues[model_id] = fwc_eof_solver.eigenvalues(neigs=10)\n",
    "    fwc_pc_variance[model_id] = fwc_eof_solver.varianceFraction(neigs=10)\n",
    "    \n",
    "    print(model_id)"
   ]
  },
  {
   "cell_type": "markdown",
   "id": "20",
   "metadata": {},
   "source": [
    "### FW content regression onto AMOC"
   ]
  },
  {
   "cell_type": "code",
   "execution_count": null,
   "id": "21",
   "metadata": {},
   "outputs": [],
   "source": [
    "amoc_40n_filt = {}\n",
    "fwc_filt = {}\n",
    "zos_filt = {}\n",
    "\n",
    "for i, model_id in enumerate(sel_models):\n",
    "    # Select and filter\n",
    "    amoc_sel, fwc_sel = xr.align(proc.time2year(amoc_40n_detr[model_id].drop(\"lat\")), proc.time2year(fwc_detr[model_id]), join=\"inner\")\n",
    "    amoc_sel, zos_sel = xr.align(amoc_sel, proc.time2year(zos_detr[model_id]), join=\"inner\")\n",
    "    amoc_40n_filt[model_id] = proc.filter_xr(amoc_sel, lowpass_cutoff, time_dim=\"year\", detrend=False)\n",
    "    fwc_filt[model_id] = proc.filter_xr(fwc_sel, lowpass_cutoff, time_dim=\"year\", detrend=False)\n",
    "    zos_filt[model_id] = proc.filter_xr(zos_sel, lowpass_cutoff, time_dim=\"year\", detrend=False)\n",
    "    \n",
    "    print(model_id)"
   ]
  },
  {
   "cell_type": "code",
   "execution_count": null,
   "id": "22",
   "metadata": {},
   "outputs": [],
   "source": [
    "lagreg_amoc_zos = {}\n",
    "lagreg_amoc_fwc = {}\n",
    "maxlag_amoc_fwc = {}\n",
    "\n",
    "for i, model_id in enumerate(sel_models):\n",
    "    # AMOC-EOF1 correlation (same as below, but only to find max. lag)\n",
    "    amoc_sel_std = ((amoc_40n_detr[model_id]-amoc_40n_detr[model_id].mean())/amoc_40n_detr[model_id].std()).swap_dims({\"time\": \"year\"})\n",
    "    fwc_sel_std = (fwc_pcs[model_id].sel(mode=0)-fwc_pcs[model_id].sel(mode=0).mean())/fwc_pcs[model_id].sel(mode=0).std()\n",
    "    amoc_sel_std = amoc_sel_std.sel(year=fwc_sel_std[\"year\"]) # align time axes\n",
    "\n",
    "    lagcorr_amoc_fwc = stats.lagregs(amoc_sel_std, fwc_sel_std, np.arange(-100,101), \"year\")\n",
    "    maxlag_amoc_fwc[model_id] = np.arange(-30,31)[lagcorr_amoc_fwc.sel(lag=slice(-30,30)).argmax().item()]\n",
    "    \n",
    "    # Calculate instantaneous regression + lagged regression at max. correlation\n",
    "    sel_lags = [0, maxlag_amoc_fwc[model_id]] if maxlag_amoc_fwc[model_id]!=0 else [0]\n",
    "    lagreg_amoc_fwc[model_id] = stats.lagregs(amoc_40n_filt[model_id], fwc_filt[model_id], sel_lags, \"year\")\n",
    "    lagreg_amoc_zos[model_id] = stats.lagregs(amoc_40n_filt[model_id], zos_filt[model_id], sel_lags, \"year\")"
   ]
  },
  {
   "cell_type": "markdown",
   "id": "23",
   "metadata": {},
   "source": [
    "## Plots"
   ]
  },
  {
   "cell_type": "markdown",
   "id": "24",
   "metadata": {},
   "source": [
    "### Arctic Ocean map\n",
    "\n",
    "(Suppl. Fig. S1)"
   ]
  },
  {
   "cell_type": "code",
   "execution_count": null,
   "id": "25",
   "metadata": {},
   "outputs": [],
   "source": [
    "import regionmask"
   ]
  },
  {
   "cell_type": "code",
   "execution_count": null,
   "id": "26",
   "metadata": {},
   "outputs": [],
   "source": [
    "# Load bathymetry\n",
    "bathy = xr.open_dataset(\"/home/omehling/data/bathymetry/GEBCO_2023_01deg.nc\")[\"elevation\"]\n",
    "bathy = proc.ds_to_180(bathy.where(bathy<=0))"
   ]
  },
  {
   "cell_type": "code",
   "execution_count": null,
   "id": "27",
   "metadata": {},
   "outputs": [],
   "source": [
    "# Arctic Ocean mask\n",
    "ao_east = np.array([[0., 80.], [25, 80], [25, 68], [40,61], [180,66.5], [180,90], [0,90]])\n",
    "ao_west = np.array([[-180,90], [-180,66.5], [-160,66.5], [-87,66.5], [-85,70], [-40,70], [-30., 80.], [0,80], [0,90]])\n",
    "ao_reg = regionmask.Regions([ao_east, ao_west], names=[\"West\", \"East\"], abbrevs=[\"AOw\", \"AOe\"])\n",
    "ao_regmask = ao_reg.mask(bathy, lon_name=\"lon\", lat_name=\"lat\", wrap_lon=False)"
   ]
  },
  {
   "cell_type": "code",
   "execution_count": null,
   "id": "28",
   "metadata": {},
   "outputs": [],
   "source": [
    "ao_mask_bathy = np.logical_and(ao_regmask>=0, bathy<0)\n",
    "ao_invmask_bathy = np.logical_and(ao_regmask.isnull(), bathy<0)"
   ]
  },
  {
   "cell_type": "code",
   "execution_count": null,
   "id": "29",
   "metadata": {},
   "outputs": [],
   "source": [
    "fig, ax = plt.subplots(figsize=(6,6), subplot_kw={\"projection\": ccrs.NorthPolarStereo()})\n",
    "ax.set_rasterized(True)\n",
    "c = bathy.sel(lat=slice(50,None)).plot.contourf(\n",
    "    levels=[-3000,-2000,-1250,-1000,-650,-200,0], colors=sns.color_palette(\"Blues_r\",8,desat=0.8),\n",
    "    ax=ax, transform=ccrs.PlateCarree(), add_colorbar=False\n",
    ")\n",
    "c2 = ao_invmask_bathy.where(ao_invmask_bathy==True).sel(lat=slice(50,None)).plot.contourf(\n",
    "    levels=[0.5,2], colors=\"C7\", alpha=0.4,\n",
    "    ax=ax, transform=ccrs.PlateCarree(), add_colorbar=False\n",
    ")\n",
    "ax.set_extent([-180, 180, 63, 90], ccrs.PlateCarree())\n",
    "ax.gridlines(lw=.2, color=\"k\", alpha=.5)\n",
    "ax.coastlines(lw=.4, color=\"w\")\n",
    "\n",
    "ax.add_feature(LAND, facecolor='#777777', zorder=2.5)\n",
    "ax.spines['geo'].set_linewidth(0)\n",
    "\n",
    "cb = fig.colorbar(c, ax=ax, orientation='horizontal', shrink=0.6, aspect=25,\n",
    "                extend='min', label='Bathymetry [m]')\n",
    "cb.ax.tick_params(labelsize=8)\n",
    "\n",
    "fig.savefig(\"figures/Map_Arctic_Ocean.pdf\", bbox_inches=\"tight\", dpi=300)"
   ]
  },
  {
   "cell_type": "markdown",
   "id": "30",
   "metadata": {},
   "source": [
    "### Freshwater content EOFs\n",
    "\n",
    "(Suppl. Fig. S6)"
   ]
  },
  {
   "cell_type": "code",
   "execution_count": null,
   "id": "31",
   "metadata": {},
   "outputs": [],
   "source": [
    "fig,axes=plt.subplots(3,3,figsize=(10,10),subplot_kw=dict(projection=ccrs.NorthPolarStereo()))\n",
    "fig.subplots_adjust(wspace=0.05)\n",
    "for i, model_id in enumerate(sel_models):\n",
    "    lat_name, lon_name = proc.lat_lon_name(areacello[model_id])\n",
    "    \n",
    "    lr_eof = stats.linreg_np(\n",
    "        (fwc_pcs[model_id].sel(mode=0)/fwc_pcs[model_id].sel(mode=0).std()).values,\n",
    "        fwc_detr[model_id].transpose(*([\"time\"]+list(areacello[model_id].dims))).values\n",
    "    )\n",
    "    \n",
    "    omask_orig = ~fwc_detr[model_id].isel(time=0,drop=True).isnull()\n",
    "    areacello_ao = areacello[model_id].where(ao_mask(model_id))\n",
    "    \n",
    "    ax=axes.flat[i]\n",
    "    c = ax.pcolormesh(areacello_ao[lon_name], areacello_ao[lat_name],\n",
    "                      lr_eof,\n",
    "                    transform=ccrs.PlateCarree(), cmap=\"cmo.balance_r\", rasterized=True, vmin=-3, vmax=3)\n",
    "    ax.coastlines(lw=.4, color=\"C7\")\n",
    "    ax.set_extent([-180, 180, 62, 90], ccrs.PlateCarree())\n",
    "    ax.set_title(model_id+\" ({:.0f} %)\".format(fwc_pc_variance[model_id].sel(mode=0)*100), fontsize=11)\n",
    "    ax.gridlines(lw=.5)\n",
    "    \n",
    "    print(model_id)\n",
    "    \n",
    "cbar_ax = fig.add_axes([0.93, 0.3, 0.015, 0.4])\n",
    "cbar = fig.colorbar(c, cax=cbar_ax, extend='max', ticks=np.arange(-3,4,1))\n",
    "cbar.set_label('Freshwater content regressed onto PC1 [m]', fontsize=9)\n",
    "\n",
    "fig.savefig('figures/Suppl_fwc-EOFs.pdf',bbox_inches='tight',dpi=300)\n",
    "fig.savefig('figures/png/Suppl_fwc-EOFs.png',bbox_inches='tight',dpi=300)"
   ]
  },
  {
   "cell_type": "markdown",
   "id": "32",
   "metadata": {},
   "source": [
    "### FW content regression onto AMOC (Fig. 2)\n",
    "\n",
    "(+ Suppl. Fig. S5)"
   ]
  },
  {
   "cell_type": "code",
   "execution_count": null,
   "id": "33",
   "metadata": {},
   "outputs": [],
   "source": [
    "plot_maxlag = False\n",
    "\n",
    "layout_grid = [['Map1', 'Map2', 'Map3'],\n",
    "               ['Map1', 'Map2', 'Map3'],\n",
    "               ['Line1', 'Line2', 'Line3'],\n",
    "               ['Map4', 'Map5', 'Map6'],\n",
    "               ['Map4', 'Map5', 'Map6'],\n",
    "               ['Line4', 'Line5', 'Line6'],\n",
    "               ['Map7', 'Map8', 'Map9'],\n",
    "               ['Map7', 'Map8', 'Map9'],\n",
    "               ['Line7', 'Line8', 'Line9']\n",
    "              ]\n",
    "map_labels = tuple([\"Map{}\".format(i) for i in range(1,10)])\n",
    "line_labels = tuple([\"Line{}\".format(i) for i in range(1,10)])\n",
    "fig, axes = plt.subplot_mosaic(layout_grid, figsize=(7.2,11), layout=\"constrained\",\n",
    "                              per_subplot_kw={map_labels: {\"projection\": ccrs.NorthPolarStereo()}}\n",
    "                              )\n",
    "\n",
    "for i, model_id in enumerate(sel_models):\n",
    "    # Lagreg plots (AMOC vs freshwater PC1)\n",
    "    line_ax = axes[\"Line{}\".format(i+1)]\n",
    "\n",
    "    amoc_sel_std = ((amoc_40n_detr[model_id]-amoc_40n_detr[model_id].mean())/amoc_40n_detr[model_id].std()).swap_dims({\"time\": \"year\"})\n",
    "    fwc_sel_std = (fwc_pcs[model_id].sel(mode=0)-fwc_pcs[model_id].sel(mode=0).mean())/fwc_pcs[model_id].sel(mode=0).std()\n",
    "    amoc_sel_std = amoc_sel_std.sel(year=fwc_sel_std[\"year\"]) # align time axes\n",
    "\n",
    "    lagcorr_amoc_fwc = stats.lagregs(amoc_sel_std, fwc_sel_std, np.arange(-100,101), \"year\")\n",
    "    lagcorr_amoc_fwc.plot(\n",
    "        ax=line_ax, lw=1.6, c=\"#2843a2\", label=\"FW content PC1\"\n",
    "    )\n",
    "\n",
    "    lower_conf, upper_conf = stats.confidence_levels_lagreg(\n",
    "        amoc_sel_std, fwc_sel_std, np.arange(-100,101), ci_level=0.95, time_dim=\"year\"\n",
    "    )\n",
    "    #line_ax.axhline(lower_conf, lw=1, c=\"#2843a2\", ls=\"--\", dashes=(3, 2)) # do not plot lower conf for one-sided test\n",
    "    line_ax.axhline(upper_conf, lw=1, c=\"#2843a2\", ls=\"--\", dashes=(3, 2))\n",
    "    if plot_maxlag:\n",
    "        line_ax.axvline(maxlag_amoc_fwc[model_id], lw=1.2, c=\"C7\", ls=\"--\", dashes=(3, 2))\n",
    "    \n",
    "    # Style lagreg axes\n",
    "    line_ax.set(ylim=(-0.75,0.75), yticks=np.arange(-0.6,0.9,0.3), xlim=(-100,100), xticks=np.arange(-80,120,40))\n",
    "    if i<6: line_ax.set_xticklabels([])\n",
    "    if i%3!=0: line_ax.set_yticklabels([])\n",
    "    \n",
    "    line_ax.axhline(0, c=\"k\", lw=.4)\n",
    "    line_ax.axvline(0, c=\"k\", lw=.4)\n",
    "    line_ax.set_xlabel(\"\"); line_ax.set_xlabel(\"\")\n",
    "    line_ax.set_title(\"\")\n",
    "    \n",
    "    line_ax.spines['right'].set_visible(False)\n",
    "    line_ax.spines['top'].set_visible(False)\n",
    "\n",
    "\n",
    "    # Map plots (freshwater regression)\n",
    "    ax = axes[\"Map{}\".format(i+1)]\n",
    "\n",
    "    lat_name, lon_name = proc.lat_lon_name(areacello[model_id])\n",
    "\n",
    "    omask_orig = ~fwc_detr[model_id].isel(time=0,drop=True).isnull()\n",
    "    omask_regrid = ~zos_detr[model_id].isel(time=0,drop=True).isnull()\n",
    "    areacello_ao = areacello[model_id].where(ao_mask(model_id))\n",
    "    if plot_maxlag:\n",
    "        plot_lag = maxlag_amoc_fwc[model_id]\n",
    "    else:\n",
    "        plot_lag = 0\n",
    "\n",
    "    c = ax.pcolormesh(\n",
    "        fwc_detr[model_id][lon_name], fwc_detr[model_id][lat_name],\n",
    "        lagreg_amoc_fwc[model_id].sel(lag=plot_lag).where(omask_orig),\n",
    "        transform=ccrs.PlateCarree(), cmap=\"cmo.balance_r\", vmin=-2.5, vmax=2.5, rasterized=True\n",
    "    )\n",
    "    cs = ax.contour(\n",
    "        zos_detr[model_id][\"lon\"], zos_detr[model_id][\"lat\"],\n",
    "        lagreg_amoc_zos[model_id].sel(lag=plot_lag).where(omask_regrid)*100,\n",
    "        transform=ccrs.PlateCarree(), colors=\"k\", levels=np.arange(-10,16,2), linewidths=0.5\n",
    "    )\n",
    "    #plt.clabel(cs, np.arange(-.1,.15,.02), fontsize=6.5, inline_spacing=1) # inline_spacing=1\n",
    "    ax.clabel(cs,  colors=['black'], manual=False, inline=False, fontsize=7)\n",
    "\n",
    "    \n",
    "    # Style maps\n",
    "    ax.set_extent([-180, 180, 63, 90], ccrs.PlateCarree())\n",
    "    ax.gridlines(lw=.2, color=\"k\", alpha=.5)\n",
    "    ax.coastlines(lw=.4, color=\"C7\")\n",
    "    ax.set_title(model_id, fontsize=11)\n",
    "    \n",
    "    print(model_id, maxlag_amoc_fwc[model_id])\n",
    "\n",
    "cbar_ax = fig.add_axes([1.03, 0.3, 0.015, 0.4])\n",
    "cbar = fig.colorbar(c, cax=cbar_ax, extend='both', ticks=np.arange(-3,4,1))\n",
    "cbar.set_label('Freshwater content regressed onto AMOC [m/Sv]', fontsize=9)\n",
    "\n",
    "fig.supylabel('AMOC–FWC PC1 correlation coefficient',x=-0.02,y=0.4,size=10)\n",
    "fig.supxlabel('Lag [years]',size=10,y=-0.015,x=0.53);\n",
    "\n",
    "if plot_maxlag:\n",
    "    fig.savefig(\"figures/Suppl_Freshwater-lagreg-maxlag.pdf\", bbox_inches=\"tight\", dpi=300)\n",
    "    fig.savefig(\"figures/png/Suppl_Freshwater-lagreg-maxlag.png\", bbox_inches=\"tight\", dpi=250)\n",
    "else:\n",
    "    fig.savefig(\"figures/Freshwater-lagreg.pdf\", bbox_inches=\"tight\", dpi=300)\n",
    "    fig.savefig(\"figures/png/Freshwater-lagreg.png\", bbox_inches=\"tight\", dpi=250)"
   ]
  },
  {
   "cell_type": "markdown",
   "id": "34",
   "metadata": {},
   "source": [
    "### Freshwater transport across Fram Strait\n",
    "\n",
    "(Suppl. Fig. S7)"
   ]
  },
  {
   "cell_type": "code",
   "execution_count": null,
   "id": "35",
   "metadata": {},
   "outputs": [],
   "source": [
    "fig, ax = plt.subplots()\n",
    "\n",
    "#cpal = sns.color_palette(\"husl\", len(sel_models))\n",
    "\n",
    "sel_models_sep = ['CanESM5', 'EC-Earth3', 'HadGEM3-GC31-LL', 'IPSL-CM6A-LR', 'UKESM1-0-LL', 'ACCESS-ESM1-5', 'CESM2', 'MPI-ESM-1-2-HAM', 'MPI-ESM1-2-LR']\n",
    "col_nemo = sns.color_palette(\"ch:s=.25,rot=-.35\", 12)[5] # \"C0\"\n",
    "col_other = sns.color_palette(\"ch:s=.15,rot=.45\", 12)[4] # \"C5\"\n",
    "#col_models = [col_other, col_nemo, col_other, col_nemo, col_nemo, col_nemo, col_other, col_other, col_nemo]\n",
    "#ls_models = [\"-\", \"-\", \"--\", \"--\", \"-.\", (0, (0.8, 0.8)), \"-.\", (0, (0.8, 0.8)), (0, (6,2))]\n",
    "ls_models = [\"-\", \"--\", \"-.\", (0, (0.8,0.8)), (0, (6,2))]\n",
    "lagregs_amoc_fwt_nemo = []\n",
    "lagregs_amoc_fwt_other = []\n",
    "\n",
    "ax.axvline(0, c=\"k\", lw=.7)\n",
    "ax.axhline(0, c=\"k\", lw=.7)\n",
    "for i, model_id in enumerate(sel_models_sep):\n",
    "    amoc_filtered = proc.filter_xr(amoc_40n_detr[model_id].swap_dims({\"time\": \"year\"}).drop(\"time\"), lowpass_cutoff, \"year\", detrend=False)\n",
    "    fwt_fram_filtered = proc.filter_xr(fwt_liq_ann_detr[model_id][\"fwt_fram\"], lowpass_cutoff, \"year\", detrend=False)\n",
    "    \n",
    "    lagreg_amoc_fwt = stats.lagregs(\n",
    "        amoc_filtered,\n",
    "        fwt_fram_filtered,\n",
    "        np.arange(-100,101), \"year\"\n",
    "    )\n",
    "    \n",
    "    if i<5:\n",
    "        # NEMO models\n",
    "        col_sel = col_nemo\n",
    "        ls_sel = ls_models[i]\n",
    "        lagregs_amoc_fwt_nemo.append(lagreg_amoc_fwt)\n",
    "    else:\n",
    "        # non-NEMO models\n",
    "        col_sel = col_other\n",
    "        ls_sel = ls_models[i-5]\n",
    "        lagregs_amoc_fwt_other.append(lagreg_amoc_fwt)\n",
    "    \n",
    "    amoc_aligned, fwt_aligned = xr.align(amoc_filtered,fwt_fram_filtered, join=\"inner\")\n",
    "    lower_conf, upper_conf = stats.confidence_levels_lagreg(\n",
    "        amoc_aligned, fwt_aligned, np.arange(-100,101), ci_level=0.95, time_dim=\"year\"\n",
    "    )\n",
    "    \n",
    "    lagreg_amoc_fwt.where(np.logical_or(lagreg_amoc_fwt>upper_conf, lagreg_amoc_fwt<lower_conf)).plot(lw=2.1, c=col_sel, ls=ls_sel)\n",
    "    lagreg_amoc_fwt.plot(label=model_id, lw=1.2, c=col_sel, ls=ls_sel)\n",
    "    if i==4:\n",
    "        xr.concat(lagregs_amoc_fwt_nemo, dim=\"model\").mean(\"model\").plot(c=sns.color_palette(\"ch:s=.25,rot=-.35\", 12)[9], lw=4, label=\"Mean (NEMO models)\")\n",
    "    print(model_id, np.arange(-100,101)[lagreg_amoc_fwt.argmax().item()])\n",
    "    \n",
    "xr.concat(lagregs_amoc_fwt_other, dim=\"model\").mean(\"model\").plot(c=sns.color_palette(\"ch:s=.15,rot=.45\", 12)[7], lw=4, label=\"Mean (non-NEMO models)\")\n",
    "\n",
    "fig.legend(ncols=2, loc=\"upper center\", bbox_to_anchor=(0.5,0), frameon=False)\n",
    "ax.set(\n",
    "    title=\"\", xlim=(-100,100), ylim=(-450,450), xticks=np.arange(-100,110,20),\n",
    "    ylabel=\"Freshwater transport regression\\nonto AMOC [km$^3$ yr$^{-1}$/Sv]\", xlabel=\"Lag [years]\"\n",
    ")\n",
    "sns.despine()\n",
    "\n",
    "fig.savefig(\"figures/Suppl_FW_transport_Fram.pdf\", bbox_inches=\"tight\")"
   ]
  },
  {
   "cell_type": "code",
   "execution_count": null,
   "id": "36",
   "metadata": {},
   "outputs": [],
   "source": []
  }
 ],
 "metadata": {
  "kernelspec": {
   "display_name": "xrmask",
   "language": "python",
   "name": "xrmask"
  },
  "language_info": {
   "codemirror_mode": {
    "name": "ipython",
    "version": 3
   },
   "file_extension": ".py",
   "mimetype": "text/x-python",
   "name": "python",
   "nbconvert_exporter": "python",
   "pygments_lexer": "ipython3",
   "version": "3.10.10"
  }
 },
 "nbformat": 4,
 "nbformat_minor": 5
}
